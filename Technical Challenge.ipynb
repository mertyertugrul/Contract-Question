{
 "cells": [
  {
   "cell_type": "markdown",
   "source": [
    "# Contract Object"
   ],
   "metadata": {
    "collapsed": false
   }
  },
  {
   "cell_type": "code",
   "execution_count": 1,
   "outputs": [],
   "source": [
    "import datetime\n",
    "\n",
    "class Contract:\n",
    "    def __init__(self, contract_id: int, start_date: datetime.date, end_date: datetime.date, contract_amount: float):\n",
    "        self.contract_id = contract_id\n",
    "        self.start_date = start_date\n",
    "        self.end_date = end_date\n",
    "        self.contract_amount = contract_amount\n",
    "        self.duration = self.duration()\n",
    "\n",
    "    def __repr__(self):\n",
    "        return f\"Contract(contract_id={self.contract_id}, start_date={self.start_date}, end_date={self.end_date}, duration={self.duration} , contract_amount={format(self.contract_amount, ',.2f')})\"\n",
    "\n",
    "    def is_valid(self) -> bool:\n",
    "        return self.start_date <= datetime.date.today() <= self.end_date\n",
    "\n",
    "    def duration(self) -> datetime.timedelta:\n",
    "        return (self.end_date - self.start_date).days\n",
    "\n",
    "    def time_remaining(self) -> datetime.timedelta:\n",
    "        if self.is_valid():\n",
    "            return self.end_date - datetime.date.today()\n",
    "        return datetime.timedelta(0)"
   ],
   "metadata": {
    "collapsed": false,
    "ExecuteTime": {
     "start_time": "2023-05-05T20:08:22.905655Z",
     "end_time": "2023-05-05T20:08:22.909950Z"
    }
   }
  },
  {
   "cell_type": "markdown",
   "source": [
    "### Create Random Contracts"
   ],
   "metadata": {
    "collapsed": false
   }
  },
  {
   "cell_type": "code",
   "execution_count": 9,
   "outputs": [],
   "source": [
    "import random\n",
    "from typing import List\n",
    "import json\n",
    "from IPython.display import display, JSON\n",
    "import prettyprint\n",
    "\n",
    "def random_date(start_date: datetime.date, end_date: datetime.date) -> datetime.date:\n",
    "    days_between = (end_date - start_date).days\n",
    "    random_days = random.randint(0, days_between)\n",
    "    return start_date + datetime.timedelta(days=random_days)\n",
    "\n",
    "def create_random_contracts(num_contracts: int, min_duration: int = 1) -> List[Contract]:\n",
    "    contracts = []\n",
    "    start_date = datetime.date(2023, 1, 1)\n",
    "    end_date = datetime.date(2023, 12, 31)\n",
    "\n",
    "    for i in range(num_contracts):\n",
    "        contract_id = i + 1\n",
    "\n",
    "        # Loop until a valid contract start and end date pair is generated\n",
    "        while True:\n",
    "            contract_start_date = random_date(start_date, end_date)\n",
    "            contract_end_date = random_date(contract_start_date, end_date)\n",
    "            if (contract_end_date - contract_start_date).days >= min_duration:\n",
    "                break\n",
    "\n",
    "        contract_amount = round(random.uniform(1000, 100000), 2)\n",
    "        contracts.append(Contract(contract_id, contract_start_date, contract_end_date, contract_amount))\n",
    "\n",
    "    return contracts\n",
    "\n",
    "def contracts_to_dicts(contracts: List[Contract]) -> list:\n",
    "    contracts_data = [\n",
    "        {\n",
    "            \"contract_id\": contract.contract_id,\n",
    "            \"start_date\": str(contract.start_date),\n",
    "            \"end_date\": str(contract.end_date),\n",
    "            \"contract_amount\": contract.contract_amount\n",
    "        }\n",
    "        for contract in contracts\n",
    "    ]\n",
    "    return contracts_data\n",
    "\n",
    "def find_contract_by_id(contracts: List[Contract], contract_id: int) -> Contract:\n",
    "    for contract in contracts:\n",
    "        if contract.contract_id == contract_id:\n",
    "            return contract\n",
    "    return None"
   ],
   "metadata": {
    "collapsed": false,
    "ExecuteTime": {
     "start_time": "2023-05-05T20:10:18.723172Z",
     "end_time": "2023-05-05T20:10:18.750769Z"
    }
   }
  },
  {
   "cell_type": "code",
   "execution_count": 3,
   "outputs": [
    {
     "data": {
      "text/plain": "[Contract(contract_id=1, start_date=2023-06-19, end_date=2023-07-02, duration=13 , contract_amount=23,771.41),\n Contract(contract_id=2, start_date=2023-01-09, end_date=2023-04-06, duration=87 , contract_amount=13,479.98),\n Contract(contract_id=3, start_date=2023-03-30, end_date=2023-12-23, duration=268 , contract_amount=33,556.56),\n Contract(contract_id=4, start_date=2023-04-05, end_date=2023-08-15, duration=132 , contract_amount=62,398.69),\n Contract(contract_id=5, start_date=2023-05-11, end_date=2023-08-15, duration=96 , contract_amount=90,757.18),\n Contract(contract_id=6, start_date=2023-03-23, end_date=2023-08-02, duration=132 , contract_amount=64,276.58),\n Contract(contract_id=7, start_date=2023-03-22, end_date=2023-08-26, duration=157 , contract_amount=63,998.16),\n Contract(contract_id=8, start_date=2023-09-11, end_date=2023-10-16, duration=35 , contract_amount=34,148.25),\n Contract(contract_id=9, start_date=2023-07-29, end_date=2023-11-22, duration=116 , contract_amount=97,299.17),\n Contract(contract_id=10, start_date=2023-09-17, end_date=2023-09-30, duration=13 , contract_amount=32,905.85)]"
     },
     "execution_count": 3,
     "metadata": {},
     "output_type": "execute_result"
    }
   ],
   "source": [
    "random_contracts = create_random_contracts(10)\n",
    "random_contracts"
   ],
   "metadata": {
    "collapsed": false,
    "ExecuteTime": {
     "start_time": "2023-05-05T20:08:22.925184Z",
     "end_time": "2023-05-05T20:08:22.929971Z"
    }
   }
  },
  {
   "cell_type": "markdown",
   "source": [
    "## Solution"
   ],
   "metadata": {
    "collapsed": false
   }
  },
  {
   "cell_type": "code",
   "execution_count": 4,
   "outputs": [],
   "source": [
    "from typing import List\n",
    "\n",
    "def contracts_to_accept(contracts: List[Contract]) -> List[int]:\n",
    "    def can_accept(c1: Contract, c2: Contract) -> bool:\n",
    "        return c1.end_date < c2.start_date\n",
    "\n",
    "    contracts.sort(key=lambda c: c.end_date)\n",
    "    n = len(contracts)\n",
    "    cas = [c.contract_amount for c in contracts]\n",
    "    prev = [-1] * n\n",
    "\n",
    "    for i in range(1, n):\n",
    "        for j in range(i - 1, -1, -1):\n",
    "            if can_accept(contracts[j], contracts[i]):\n",
    "                prev[i] = j\n",
    "                break\n",
    "\n",
    "    for i in range(1, n):\n",
    "        cas[i] = max(cas[i - 1], cas[prev[i]] + contracts[i].contract_amount if prev[i] != -1 else contracts[i].contract_amount)\n",
    "\n",
    "    result = []\n",
    "    i = n - 1\n",
    "    while i >= 0:\n",
    "        if prev[i] != -1 and cas[i] == cas[prev[i]] + contracts[i].contract_amount:\n",
    "            result.append(contracts[i].contract_id)\n",
    "            i = prev[i]\n",
    "        elif prev[i] == -1 and cas[i] == contracts[i].contract_amount:\n",
    "            result.append(contracts[i].contract_id)\n",
    "            break\n",
    "        else:\n",
    "            i -= 1\n",
    "\n",
    "    return result[::-1]\n"
   ],
   "metadata": {
    "collapsed": false,
    "ExecuteTime": {
     "start_time": "2023-05-05T20:08:22.936217Z",
     "end_time": "2023-05-05T20:08:22.962970Z"
    }
   }
  },
  {
   "cell_type": "markdown",
   "source": [
    "## Testing The Solution"
   ],
   "metadata": {
    "collapsed": false
   }
  },
  {
   "cell_type": "code",
   "execution_count": 6,
   "outputs": [
    {
     "name": "stdout",
     "output_type": "stream",
     "text": [
      "Contract(contract_id=1, start_date=2023-11-01, end_date=2023-11-04, duration=3 , contract_amount=20,388.77)\n",
      "Contract(contract_id=2, start_date=2023-09-18, end_date=2023-11-14, duration=57 , contract_amount=5,724.84)\n",
      "Contract(contract_id=3, start_date=2023-07-22, end_date=2023-12-11, duration=142 , contract_amount=89,226.04)\n",
      "Contract(contract_id=4, start_date=2023-02-17, end_date=2023-05-21, duration=93 , contract_amount=83,796.62)\n",
      "Contract(contract_id=5, start_date=2023-08-14, end_date=2023-12-22, duration=130 , contract_amount=91,371.08)\n",
      "Contract(contract_id=6, start_date=2023-02-25, end_date=2023-12-17, duration=295 , contract_amount=21,593.70)\n",
      "Contract(contract_id=7, start_date=2023-07-16, end_date=2023-07-19, duration=3 , contract_amount=80,355.99)\n",
      "Contract(contract_id=8, start_date=2023-11-30, end_date=2023-12-12, duration=12 , contract_amount=69,846.78)\n",
      "Contract(contract_id=9, start_date=2023-08-03, end_date=2023-11-18, duration=107 , contract_amount=79,013.82)\n",
      "Contract(contract_id=10, start_date=2023-01-22, end_date=2023-12-04, duration=316 , contract_amount=29,503.42)\n"
     ]
    }
   ],
   "source": [
    "# Create random contracts\n",
    "random_contracts = create_random_contracts(10)\n",
    "for c in random_contracts:\n",
    "    print(c)"
   ],
   "metadata": {
    "collapsed": false,
    "ExecuteTime": {
     "start_time": "2023-05-05T20:08:22.951090Z",
     "end_time": "2023-05-05T20:08:22.971366Z"
    }
   }
  },
  {
   "cell_type": "code",
   "execution_count": 11,
   "outputs": [
    {
     "name": "stdout",
     "output_type": "stream",
     "text": [
      "Contract(contract_id=4, start_date=2023-02-17, end_date=2023-05-21, duration=93 , contract_amount=83,796.62)\n",
      "Contract(contract_id=7, start_date=2023-07-16, end_date=2023-07-19, duration=3 , contract_amount=80,355.99)\n",
      "Contract(contract_id=9, start_date=2023-08-03, end_date=2023-11-18, duration=107 , contract_amount=79,013.82)\n",
      "Contract(contract_id=8, start_date=2023-11-30, end_date=2023-12-12, duration=12 , contract_amount=69,846.78)\n",
      "Contract IDs that maximise the gain: [4, 7, 9, 8], Total contract amount is : 186,391.36\n"
     ]
    }
   ],
   "source": [
    "contracts_to_accept_1 = contracts_to_accept(random_contracts)\n",
    "\n",
    "total_contract_amount=0\n",
    "for c_id in contracts_to_accept_1:\n",
    "    total_contract_amount+= random_contracts[c_id-1].contract_amount\n",
    "    print(find_contract_by_id(random_contracts, c_id))\n",
    "print(f\"Contract IDs that maximise the gain: {contracts_to_accept_1}, Total contract amount is : {format(total_contract_amount,',.2f')}\")"
   ],
   "metadata": {
    "collapsed": false,
    "ExecuteTime": {
     "start_time": "2023-05-05T20:11:04.149681Z",
     "end_time": "2023-05-05T20:11:04.154762Z"
    }
   }
  },
  {
   "cell_type": "markdown",
   "source": [
    "# Part 2\n",
    "\n",
    "RESTful API"
   ],
   "metadata": {
    "collapsed": false
   }
  },
  {
   "cell_type": "code",
   "execution_count": 14,
   "outputs": [
    {
     "name": "stdout",
     "output_type": "stream",
     "text": [
      " * Serving Flask app '__main__'\n",
      " * Debug mode: off\n"
     ]
    },
    {
     "name": "stderr",
     "output_type": "stream",
     "text": [
      "\u001B[31m\u001B[1mWARNING: This is a development server. Do not use it in a production deployment. Use a production WSGI server instead.\u001B[0m\n",
      " * Running on http://127.0.0.1:5000\n",
      "\u001B[33mPress CTRL+C to quit\u001B[0m\n",
      "127.0.0.1 - - [05/May/2023 22:15:22] \"GET / HTTP/1.1\" 200 -\n"
     ]
    }
   ],
   "source": [
    "###\n",
    "# Run this in a different notebook or Python file\n",
    "###\n",
    "from flask import Flask, request, jsonify\n",
    "from typing import List\n",
    "\n",
    "app = Flask(__name__)\n",
    "\n",
    "@app.route(\"/\")\n",
    "def alive():\n",
    "    return \"I am alive!\"\n",
    "\n",
    "@app.route('/api/contracts-to-accept', methods=['POST'])\n",
    "def api_contracts_to_accept():\n",
    "    contracts_data = request.json['contracts']\n",
    "    contracts = [Contract(c['contract_id'], datetime.date.fromisoformat(c['start_date']), datetime.date.fromisoformat(c['end_date']), c['contract_amount']) for c in contracts_data]\n",
    "    accepted_contract_ids = contracts_to_accept(contracts)\n",
    "    return jsonify(accepted_contract_ids)\n",
    "\n",
    "if __name__ == '__main__':\n",
    "    app.run()\n"
   ],
   "metadata": {
    "collapsed": false,
    "ExecuteTime": {
     "start_time": "2023-05-05T22:15:19.064790Z",
     "end_time": "2023-05-05T22:16:42.513258Z"
    }
   }
  },
  {
   "cell_type": "markdown",
   "source": [
    "## Test The RESTful API\n",
    "## Front-End Request Code"
   ],
   "metadata": {
    "collapsed": false
   }
  },
  {
   "cell_type": "code",
   "execution_count": 19,
   "outputs": [
    {
     "name": "stdout",
     "output_type": "stream",
     "text": [
      "Accepted contract IDs: [1, 3]\n"
     ]
    }
   ],
   "source": [
    "import requests\n",
    "\n",
    "contracts_data = [\n",
    "    {\n",
    "        \"contract_id\": 1,\n",
    "        \"start_date\": \"2023-05-01\",\n",
    "        \"end_date\": \"2023-05-05\",\n",
    "        \"contract_amount\": 1000\n",
    "    },\n",
    "    {\n",
    "        \"contract_id\": 2,\n",
    "        \"start_date\": \"2023-05-03\",\n",
    "        \"end_date\": \"2023-05-07\",\n",
    "        \"contract_amount\": 2000\n",
    "    },\n",
    "    {\n",
    "        \"contract_id\": 3,\n",
    "        \"start_date\": \"2023-05-06\",\n",
    "        \"end_date\": \"2023-05-10\",\n",
    "        \"contract_amount\": 3000\n",
    "    }\n",
    "]\n",
    "\n",
    "response = requests.post('http://127.0.0.1:5000/api/contracts-to-accept', json={'contracts': contracts_data})\n",
    "\n",
    "if response.status_code == 200:\n",
    "    accepted_contract_ids = response.json()\n",
    "    print(\"Accepted contract IDs:\", accepted_contract_ids)\n",
    "else:\n",
    "    print(\"Error:\", response.status_code, response.text)"
   ],
   "metadata": {
    "collapsed": false,
    "ExecuteTime": {
     "start_time": "2023-05-05T22:20:53.184184Z",
     "end_time": "2023-05-05T22:20:53.194896Z"
    }
   }
  },
  {
   "cell_type": "code",
   "execution_count": null,
   "outputs": [],
   "source": [],
   "metadata": {
    "collapsed": false
   }
  }
 ],
 "metadata": {
  "kernelspec": {
   "display_name": "Python 3",
   "language": "python",
   "name": "python3"
  },
  "language_info": {
   "codemirror_mode": {
    "name": "ipython",
    "version": 2
   },
   "file_extension": ".py",
   "mimetype": "text/x-python",
   "name": "python",
   "nbconvert_exporter": "python",
   "pygments_lexer": "ipython2",
   "version": "2.7.6"
  }
 },
 "nbformat": 4,
 "nbformat_minor": 0
}
